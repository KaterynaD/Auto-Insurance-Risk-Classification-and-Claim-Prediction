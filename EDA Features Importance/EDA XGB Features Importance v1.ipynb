{
 "cells": [
  {
   "cell_type": "code",
   "execution_count": 67,
   "metadata": {
    "collapsed": true
   },
   "outputs": [],
   "source": [
    "import pandas as pd\n",
    "import numpy as np"
   ]
  },
  {
   "cell_type": "code",
   "execution_count": 68,
   "metadata": {
    "collapsed": false
   },
   "outputs": [],
   "source": [
    "dataset = pd.read_csv('C:\\Kate\\Python\\ClaimPrediction\\Data\\\\fdata_v1_encd.csv', index_col=None)"
   ]
  },
  {
   "cell_type": "code",
   "execution_count": 69,
   "metadata": {
    "collapsed": true
   },
   "outputs": [],
   "source": [
    "target_column='hasclaim'\n",
    "native_features=[\n",
    " 'manufacturer_encd',\n",
    " 'model_encd',\n",
    " 'registrationstateprovcd_encd',\n",
    " 'vehbodytypecd_encd',\n",
    " 'performancecd_encd',\n",
    " 'restraintcd_encd',\n",
    " 'antitheftcd_encd',\n",
    " 'enginecylinders_encd',\n",
    " 'vehusecd_encd',\n",
    " 'classcd_encd',\n",
    " 'carpoolind_encd',\n",
    " 'daylightrunninglightsind_encd',\n",
    " 'passiveseatbeltind_encd',\n",
    " 'programtypecd_encd',\n",
    " 'driverstatuscd_encd',\n",
    " 'licensedstateprovcd_encd',\n",
    " 'relationshiptoinsuredcd_encd',\n",
    " 'scholasticdiscountind_encd',\n",
    " 'mvrstatus_encd',\n",
    " 'maturedriverind_encd',\n",
    " 'drivertrainingind_encd',\n",
    " 'gooddriverind_encd',\n",
    " 'accidentpreventioncourseind_encd',\n",
    " 'persontypecd_encd',\n",
    " 'gendercd_encd',\n",
    " 'maritalstatuscd_encd',\n",
    " 'occupationclasscd_encd',\n",
    " #\n",
    " 'garageterritory',\n",
    " 'vehnumber',\n",
    " 'drivernumber',\n",
    " 'viol_pointschargedterm',\n",
    " 'acci_pointschargedterm',\n",
    " 'viol_driverpointsnumbercountterm',\n",
    " 'acci_driverpointsnumbercountterm',\n",
    " 'viol_infractioncdcountterm',\n",
    " 'acci_infractioncdcountterm',\n",
    " 'viol_last_infractionage',\n",
    " 'acci_last_infractionage',\n",
    " 'viol_last_convictionage',\n",
    " 'acci_last_convictionage',\n",
    " 'enginesize',\n",
    " 'enginehorsepower',\n",
    " #\n",
    " 'vehicleage',\n",
    " 'ratingvalue',\n",
    " 'estimatedannualdistance',\n",
    " 'odometerreading',\n",
    " 'daysperweekdriven',\n",
    " 'driverage',\n",
    " 'havelicenseage',\n",
    " 'mvrstatusage'\n",
    "]\n",
    "#some native features are replaced with external plus few external features in addition\n",
    "external_features=[\n",
    " 'external_make_encd',\n",
    " 'external_model_encd',\n",
    " 'registrationstateprovcd_encd',\n",
    " 'vehbodytypecd_encd',\n",
    " 'performancecd_encd',\n",
    " 'restraintcd_encd',\n",
    " 'antitheftcd_encd',\n",
    " 'enginecylinders_encd',\n",
    " 'vehusecd_encd',\n",
    " 'classcd_encd',\n",
    " 'carpoolind_encd',\n",
    " 'daylightrunninglightsind_encd',\n",
    " 'passiveseatbeltind_encd',\n",
    " 'programtypecd_encd',\n",
    " 'driverstatuscd_encd',\n",
    " 'licensedstateprovcd_encd',\n",
    " 'relationshiptoinsuredcd_encd',\n",
    " 'scholasticdiscountind_encd',\n",
    " 'mvrstatus_encd',\n",
    " 'maturedriverind_encd',\n",
    " 'drivertrainingind_encd',\n",
    " 'gooddriverind_encd',\n",
    " 'accidentpreventioncourseind_encd',\n",
    " 'persontypecd_encd',\n",
    " 'gendercd_encd',\n",
    " 'maritalstatuscd_encd',\n",
    " 'occupationclasscd_encd',\n",
    " #\n",
    " 'garageterritory',\n",
    " 'vehnumber',\n",
    " 'drivernumber',\n",
    " 'viol_pointschargedterm',\n",
    " 'acci_pointschargedterm',\n",
    " 'viol_driverpointsnumbercountterm',\n",
    " 'acci_driverpointsnumbercountterm',\n",
    " 'viol_infractioncdcountterm',\n",
    " 'acci_infractioncdcountterm',\n",
    " 'viol_last_infractionage',\n",
    " 'acci_last_infractionage',\n",
    " 'viol_last_convictionage',\n",
    " 'acci_last_convictionage',\n",
    " 'external_engine',\n",
    " 'enginehorsepower',\n",
    " #\n",
    " 'modelscore',\n",
    " 'external_length_in',\n",
    " 'external_width_in',\n",
    " 'external_height_in',\n",
    " 'external_vehicleage',\n",
    " 'ratingvalue',\n",
    " 'estimatedannualdistance',\n",
    " 'odometerreading',\n",
    " 'daysperweekdriven',\n",
    " 'driverage',\n",
    " 'havelicenseage',\n",
    " 'mvrstatusage'\n",
    "]"
   ]
  },
  {
   "cell_type": "code",
   "execution_count": 70,
   "metadata": {
    "collapsed": false
   },
   "outputs": [
    {
     "name": "stdout",
     "output_type": "stream",
     "text": [
      "Dataset size is 132874 records\n",
      "6934 records have claims\n",
      "5% of records in the dataset have claims\n"
     ]
    }
   ],
   "source": [
    "total=len(dataset)\n",
    "print('Dataset size is %d records'%total)\n",
    "hasclaim=len(dataset[dataset[target_column]==1])\n",
    "print('%d records have claims'%hasclaim)\n",
    "p=round(100*hasclaim/total)\n",
    "print('%d%% of records in the dataset have claims'%p)"
   ]
  },
  {
   "cell_type": "code",
   "execution_count": 71,
   "metadata": {
    "collapsed": true
   },
   "outputs": [],
   "source": [
    "from sklearn.metrics import roc_auc_score,roc_curve, auc,precision_score, accuracy_score, recall_score, f1_score,classification_report,confusion_matrix\n",
    "def gini(y, pred):\n",
    "    g = np.asarray(np.c_[y, pred, np.arange(len(y)) ], dtype=np.float)\n",
    "    g = g[np.lexsort((g[:,2], -1*g[:,1]))]\n",
    "    gs = g[:,0].cumsum().sum() / g[:,0].sum()\n",
    "    gs -= (len(y) + 1) / 2.\n",
    "    return gs / len(y)\n",
    "def model_metrics(y_test, y_pred, flag):\n",
    "    ROC_AUC=roc_auc_score(y_test, y_pred)\n",
    "    g=gini(y_test,y_pred)/gini(y_test,y_test)\n",
    "    if flag!=1:\n",
    "        print('ROC_AUC - %f'%ROC_AUC)\n",
    "        print('Gini - %f'%g)\n",
    "        print ('\\n')\n",
    "        print ('Confusion matrix\\n')    \n",
    "        tn, fp, fn, tp = confusion_matrix(y_test, y_pred).ravel()\n",
    "        print('TP=%d FP=%d'%(tp,fp))\n",
    "        print('FN=%d TN=%d'%(fn,tn))\n",
    "    return ROC_AUC"
   ]
  },
  {
   "cell_type": "markdown",
   "metadata": {},
   "source": [
    "Native features:"
   ]
  },
  {
   "cell_type": "code",
   "execution_count": 72,
   "metadata": {
    "collapsed": true
   },
   "outputs": [],
   "source": [
    "X=dataset.loc[:,native_features]\n",
    "y=dataset[target_column]\n",
    "from sklearn.model_selection import train_test_split\n",
    "X_train, X_test, y_train, y_test = train_test_split(X, y, test_size=0.2, random_state=42)"
   ]
  },
  {
   "cell_type": "code",
   "execution_count": 73,
   "metadata": {
    "collapsed": false
   },
   "outputs": [],
   "source": [
    "import xgboost as xgb"
   ]
  },
  {
   "cell_type": "code",
   "execution_count": 74,
   "metadata": {
    "collapsed": false
   },
   "outputs": [],
   "source": [
    "from imblearn.under_sampling import RandomUnderSampler"
   ]
  },
  {
   "cell_type": "code",
   "execution_count": 75,
   "metadata": {
    "collapsed": true
   },
   "outputs": [],
   "source": [
    "def Resampling(Resampler,X,y,title):\n",
    "    X_resampled, y_resampled, idx_resampled = Resampler.fit_sample(X, y)\n",
    "    total=len(y)\n",
    "    total_resampled=len(y_resampled)\n",
    "    removed=total-total_resampled\n",
    "    print(title)\n",
    "    print 'Removed %d'%removed\n",
    "    reduction_str = ('Reduced {:.2f}%'.format(100 * (1 - float(total_resampled) /total)))\n",
    "    print(reduction_str)\n",
    "    #Converting back to dataframe \n",
    "    X_res=pd.DataFrame(X_resampled,columns=X.columns)\n",
    "    y_res=pd.DataFrame(y_resampled,columns=[target_column])\n",
    "    hasclaim=len(y_res[y_res[target_column]==1])\n",
    "    p_after=round(100*hasclaim/total_resampled)\n",
    "    print('%d%% of records in the dataset have claims'%p_after)\n",
    "\n",
    "    return X_res,y_res"
   ]
  },
  {
   "cell_type": "code",
   "execution_count": 76,
   "metadata": {
    "collapsed": false
   },
   "outputs": [
    {
     "name": "stdout",
     "output_type": "stream",
     "text": [
      "Random Undersampling\n",
      "Removed 94633\n",
      "Reduced 89.03%\n",
      "47% of records in the dataset have claims\n"
     ]
    }
   ],
   "source": [
    "rus = RandomUnderSampler(ratio=0.918,return_indices=True, random_state=42)\n",
    "X_res,y_res=Resampling(rus,X_train,y_train,'Random Undersampling')\n",
    "l=len(y_res)\n",
    "y_res=y_res[target_column].values.reshape(l,)"
   ]
  },
  {
   "cell_type": "code",
   "execution_count": 77,
   "metadata": {
    "collapsed": false
   },
   "outputs": [
    {
     "name": "stdout",
     "output_type": "stream",
     "text": [
      "ROC_AUC - 0.640060\n",
      "Gini - 0.289269\n",
      "\n",
      "\n",
      "Confusion matrix\n",
      "\n",
      "TP=829 FP=8424\n",
      "FN=521 TN=16801\n"
     ]
    }
   ],
   "source": [
    "gbm = xgb.XGBClassifier(objective='binary:logistic').fit(X_res, y_res)\n",
    "y_pred = gbm.predict(X_test)\n",
    "y_pred[y_pred > 0.5] = 1\n",
    "y_pred[y_pred <= 0.5] = 0\n",
    "ROC_AUC=model_metrics(y_test, y_pred,0)"
   ]
  },
  {
   "cell_type": "code",
   "execution_count": 78,
   "metadata": {
    "collapsed": true
   },
   "outputs": [],
   "source": [
    "import matplotlib.pylab as plt\n",
    "%matplotlib inline\n",
    "from matplotlib.pylab import rcParams\n",
    "rcParams['figure.figsize'] = 12, 4"
   ]
  },
  {
   "cell_type": "code",
   "execution_count": 79,
   "metadata": {
    "collapsed": false,
    "scrolled": true
   },
   "outputs": [
    {
     "data": {
      "text/plain": [
       "<matplotlib.text.Text at 0xff42710>"
      ]
     },
     "execution_count": 79,
     "metadata": {},
     "output_type": "execute_result"
    },
    {
     "data": {
      "image/png": "[encoded data removed]",
      "text/plain": [
       "<matplotlib.figure.Figure at 0x1048ffd0>"
      ]
     },
     "metadata": {},
     "output_type": "display_data"
    }
   ],
   "source": [
    "feat_imp = pd.Series(gbm.booster().get_fscore()).sort_values(ascending=False)\n",
    "feat_imp.plot(kind='bar', title='Native Features Importances')\n",
    "plt.ylabel('Feature Importance Score')"
   ]
  },
  {
   "cell_type": "code",
   "execution_count": 80,
   "metadata": {
    "collapsed": false,
    "scrolled": true
   },
   "outputs": [
    {
     "name": "stdout",
     "output_type": "stream",
     "text": [
      "driverage                           74\n",
      "classcd_encd                        52\n",
      "vehicleage                          43\n",
      "mvrstatusage                        39\n",
      "estimatedannualdistance             34\n",
      "mvrstatus_encd                      31\n",
      "model_encd                          27\n",
      "occupationclasscd_encd              26\n",
      "havelicenseage                      25\n",
      "drivernumber                        24\n",
      "vehbodytypecd_encd                  22\n",
      "gooddriverind_encd                  21\n",
      "odometerreading                     21\n",
      "maritalstatuscd_encd                19\n",
      "acci_last_infractionage             17\n",
      "vehnumber                           15\n",
      "maturedriverind_encd                15\n",
      "carpoolind_encd                     14\n",
      "driverstatuscd_encd                 13\n",
      "garageterritory                     12\n",
      "ratingvalue                         12\n",
      "manufacturer_encd                   10\n",
      "viol_last_convictionage             10\n",
      "accidentpreventioncourseind_encd     9\n",
      "daylightrunninglightsind_encd        8\n",
      "enginehorsepower                     7\n",
      "drivertrainingind_encd               7\n",
      "enginesize                           6\n",
      "passiveseatbeltind_encd              5\n",
      "viol_last_infractionage              5\n",
      "viol_driverpointsnumbercountterm     4\n",
      "licensedstateprovcd_encd             3\n",
      "performancecd_encd                   3\n",
      "vehusecd_encd                        3\n",
      "antitheftcd_encd                     2\n",
      "gendercd_encd                        2\n",
      "daysperweekdriven                    2\n",
      "programtypecd_encd                   1\n",
      "persontypecd_encd                    1\n",
      "viol_pointschargedterm               1\n",
      "dtype: int64\n"
     ]
    }
   ],
   "source": [
    "print feat_imp\n",
    "feat_imp.to_csv('C:\\Kate\\Python\\ClaimPrediction\\Results_v1\\Output\\XGB_Native_Features_Importance.csv')"
   ]
  },
  {
   "cell_type": "markdown",
   "metadata": {},
   "source": [
    "External Features replace make, model, enginesize and 4 in addition: vehicle height, width, length and model score which was calculated based on average premium per model and the same driver age and zip code."
   ]
  },
  {
   "cell_type": "code",
   "execution_count": 81,
   "metadata": {
    "collapsed": false
   },
   "outputs": [
    {
     "name": "stdout",
     "output_type": "stream",
     "text": [
      "Random Undersampling\n",
      "Removed 94633\n",
      "Reduced 89.03%\n",
      "47% of records in the dataset have claims\n",
      "ROC_AUC - 0.645999\n",
      "Gini - 0.300043\n",
      "\n",
      "\n",
      "Confusion matrix\n",
      "\n",
      "TP=846 FP=8442\n",
      "FN=504 TN=16783\n"
     ]
    }
   ],
   "source": [
    "X=dataset.loc[:,external_features]\n",
    "y=dataset[target_column]\n",
    "from sklearn.model_selection import train_test_split\n",
    "X_train, X_test, y_train, y_test = train_test_split(X, y, test_size=0.2, random_state=42)\n",
    "#\n",
    "X_res,y_res=Resampling(rus,X_train,y_train,'Random Undersampling')\n",
    "l=len(y_res)\n",
    "y_res=y_res[target_column].values.reshape(l,)\n",
    "#\n",
    "gbm = xgb.XGBClassifier(objective='binary:logistic').fit(X_res, y_res)\n",
    "y_pred = gbm.predict(X_test)\n",
    "y_pred[y_pred > 0.5] = 1\n",
    "y_pred[y_pred <= 0.5] = 0\n",
    "ROC_AUC=model_metrics(y_test, y_pred,0)"
   ]
  },
  {
   "cell_type": "code",
   "execution_count": 82,
   "metadata": {
    "collapsed": false
   },
   "outputs": [
    {
     "data": {
      "text/plain": [
       "<matplotlib.text.Text at 0xed17240>"
      ]
     },
     "execution_count": 82,
     "metadata": {},
     "output_type": "execute_result"
    },
    {
     "data": {
      "image/png": "[encoded data removed]",
      "text/plain": [
       "<matplotlib.figure.Figure at 0xd1cf9e8>"
      ]
     },
     "metadata": {},
     "output_type": "display_data"
    }
   ],
   "source": [
    "feat_imp = pd.Series(gbm.booster().get_fscore()).sort_values(ascending=False)\n",
    "feat_imp.plot(kind='bar', title='External Features Importances')\n",
    "plt.ylabel('Feature Importance Score')"
   ]
  },
  {
   "cell_type": "code",
   "execution_count": 83,
   "metadata": {
    "collapsed": false
   },
   "outputs": [
    {
     "name": "stdout",
     "output_type": "stream",
     "text": [
      "driverage                           71\n",
      "classcd_encd                        54\n",
      "mvrstatusage                        37\n",
      "external_vehicleage                 35\n",
      "mvrstatus_encd                      34\n",
      "estimatedannualdistance             33\n",
      "external_height_in                  31\n",
      "occupationclasscd_encd              28\n",
      "drivernumber                        23\n",
      "havelicenseage                      22\n",
      "gooddriverind_encd                  21\n",
      "odometerreading                     20\n",
      "maritalstatuscd_encd                19\n",
      "vehnumber                           15\n",
      "maturedriverind_encd                14\n",
      "acci_last_infractionage             14\n",
      "vehbodytypecd_encd                  14\n",
      "driverstatuscd_encd                 13\n",
      "carpoolind_encd                     13\n",
      "external_width_in                   13\n",
      "external_length_in                  13\n",
      "modelscore                          12\n",
      "ratingvalue                         12\n",
      "external_model_encd                 10\n",
      "external_make_encd                   9\n",
      "accidentpreventioncourseind_encd     8\n",
      "garageterritory                      8\n",
      "passiveseatbeltind_encd              8\n",
      "external_engine                      7\n",
      "viol_last_convictionage              7\n",
      "drivertrainingind_encd               5\n",
      "viol_last_infractionage              5\n",
      "vehusecd_encd                        4\n",
      "daylightrunninglightsind_encd        3\n",
      "viol_driverpointsnumbercountterm     3\n",
      "enginehorsepower                     2\n",
      "performancecd_encd                   2\n",
      "persontypecd_encd                    1\n",
      "daysperweekdriven                    1\n",
      "relationshiptoinsuredcd_encd         1\n",
      "antitheftcd_encd                     1\n",
      "dtype: int64\n"
     ]
    }
   ],
   "source": [
    "print feat_imp\n",
    "feat_imp.to_csv('C:\\Kate\\Python\\ClaimPrediction\\Results_v1\\Output\\XGB_External_Features_Importance.csv')"
   ]
  },
  {
   "cell_type": "markdown",
   "metadata": {},
   "source": [
    "It looks like the external features improves the metrics (vehicle height). "
   ]
  },
  {
   "cell_type": "code",
   "execution_count": 84,
   "metadata": {
    "collapsed": false
   },
   "outputs": [
    {
     "name": "stdout",
     "output_type": "stream",
     "text": [
      "Random Undersampling\n",
      "Removed 94633\n",
      "Reduced 89.03%\n",
      "47% of records in the dataset have claims\n",
      "ROC_AUC - 0.644286\n",
      "Gini - 0.297220\n",
      "\n",
      "\n",
      "Confusion matrix\n",
      "\n",
      "TP=841 FP=8435\n",
      "FN=509 TN=16790\n"
     ]
    }
   ],
   "source": [
    "X=dataset.loc[:,native_and_height_features]\n",
    "y=dataset[target_column]\n",
    "from sklearn.model_selection import train_test_split\n",
    "X_train, X_test, y_train, y_test = train_test_split(X, y, test_size=0.2, random_state=42)\n",
    "#\n",
    "X_res,y_res=Resampling(rus,X_train,y_train,'Random Undersampling')\n",
    "l=len(y_res)\n",
    "y_res=y_res[target_column].values.reshape(l,)\n",
    "#\n",
    "gbm = xgb.XGBClassifier(objective='binary:logistic').fit(X_res, y_res)\n",
    "y_pred = gbm.predict(X_test)\n",
    "y_pred[y_pred > 0.5] = 1\n",
    "y_pred[y_pred <= 0.5] = 0\n",
    "ROC_AUC=model_metrics(y_test, y_pred,0)"
   ]
  },
  {
   "cell_type": "markdown",
   "metadata": {},
   "source": [
    "Ok, so height definetly improves the score but the other external features also play some role. Let's try to run the model with external features but without the height."
   ]
  },
  {
   "cell_type": "code",
   "execution_count": 85,
   "metadata": {
    "collapsed": true
   },
   "outputs": [],
   "source": [
    "external_features.remove('external_height_in')"
   ]
  },
  {
   "cell_type": "code",
   "execution_count": 86,
   "metadata": {
    "collapsed": false
   },
   "outputs": [
    {
     "name": "stdout",
     "output_type": "stream",
     "text": [
      "Random Undersampling\n",
      "Removed 94633\n",
      "Reduced 89.03%\n",
      "47% of records in the dataset have claims\n",
      "ROC_AUC - 0.645695\n",
      "Gini - 0.300037\n",
      "\n",
      "\n",
      "Confusion matrix\n",
      "\n",
      "TP=844 FP=8420\n",
      "FN=506 TN=16805\n"
     ]
    }
   ],
   "source": [
    "X=dataset.loc[:,external_features]\n",
    "y=dataset[target_column]\n",
    "from sklearn.model_selection import train_test_split\n",
    "X_train, X_test, y_train, y_test = train_test_split(X, y, test_size=0.2, random_state=42)\n",
    "#\n",
    "X_res,y_res=Resampling(rus,X_train,y_train,'Random Undersampling')\n",
    "l=len(y_res)\n",
    "y_res=y_res[target_column].values.reshape(l,)\n",
    "#\n",
    "gbm = xgb.XGBClassifier(objective='binary:logistic').fit(X_res, y_res)\n",
    "y_pred = gbm.predict(X_test)\n",
    "y_pred[y_pred > 0.5] = 1\n",
    "y_pred[y_pred <= 0.5] = 0\n",
    "ROC_AUC=model_metrics(y_test, y_pred,0)"
   ]
  },
  {
   "cell_type": "markdown",
   "metadata": {},
   "source": [
    "Even without Height external features still have significant score. Let's try to run the model with external features but without modelscore"
   ]
  },
  {
   "cell_type": "code",
   "execution_count": 87,
   "metadata": {
    "collapsed": true
   },
   "outputs": [],
   "source": [
    "external_features.remove('modelscore')"
   ]
  },
  {
   "cell_type": "code",
   "execution_count": 88,
   "metadata": {
    "collapsed": false
   },
   "outputs": [
    {
     "name": "stdout",
     "output_type": "stream",
     "text": [
      "Random Undersampling\n",
      "Removed 94633\n",
      "Reduced 89.03%\n",
      "47% of records in the dataset have claims\n",
      "ROC_AUC - 0.647301\n",
      "Gini - 0.302747\n",
      "\n",
      "\n",
      "Confusion matrix\n",
      "\n",
      "TP=847 FP=8395\n",
      "FN=503 TN=16830\n"
     ]
    }
   ],
   "source": [
    "X=dataset.loc[:,external_features]\n",
    "y=dataset[target_column]\n",
    "from sklearn.model_selection import train_test_split\n",
    "X_train, X_test, y_train, y_test = train_test_split(X, y, test_size=0.2, random_state=42)\n",
    "#\n",
    "X_res,y_res=Resampling(rus,X_train,y_train,'Random Undersampling')\n",
    "    #to avoid too many too many indices for array error reshape to (len,) from (len,1)\n",
    "l=len(y_res)\n",
    "y_res=y_res[target_column].values.reshape(l,)\n",
    "#\n",
    "gbm = xgb.XGBClassifier(objective='binary:logistic').fit(X_res, y_res)\n",
    "y_pred = gbm.predict(X_test)\n",
    "y_pred[y_pred > 0.5] = 1\n",
    "y_pred[y_pred <= 0.5] = 0\n",
    "ROC_AUC=model_metrics(y_test, y_pred,0)"
   ]
  },
  {
   "cell_type": "markdown",
   "metadata": {},
   "source": [
    "On the other hand, removing ModelScore from the external features makes the metrics even more higher. The question is if the improvement statistically significant. We will do more investigation for this."
   ]
  },
  {
   "cell_type": "markdown",
   "metadata": {},
   "source": [
    "I would say it is not enough just take into account feature significance. A feature can be significant according to this analysis but its removing may improve the score."
   ]
  }
 ],
 "metadata": {
  "anaconda-cloud": {},
  "kernelspec": {
   "display_name": "Python [conda root]",
   "language": "python",
   "name": "conda-root-py"
  },
  "language_info": {
   "codemirror_mode": {
    "name": "ipython",
    "version": 2
   },
   "file_extension": ".py",
   "mimetype": "text/x-python",
   "name": "python",
   "nbconvert_exporter": "python",
   "pygments_lexer": "ipython2",
   "version": "2.7.12"
  }
 },
 "nbformat": 4,
 "nbformat_minor": 1
}
