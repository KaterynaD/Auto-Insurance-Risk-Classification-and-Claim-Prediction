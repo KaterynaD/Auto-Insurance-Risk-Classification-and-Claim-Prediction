{
 "cells": [
  {
   "cell_type": "code",
   "execution_count": 1,
   "metadata": {
    "collapsed": true
   },
   "outputs": [],
   "source": [
    "#fe6_trgtencd0 \n",
    "#fe7_trgtencd005\n",
    "#fe8_trgtencd01"
   ]
  },
  {
   "cell_type": "code",
   "execution_count": 2,
   "metadata": {
    "collapsed": true
   },
   "outputs": [],
   "source": [
    "import pandas as pd\n",
    "import numpy as np"
   ]
  },
  {
   "cell_type": "code",
   "execution_count": 3,
   "metadata": {
    "collapsed": true
   },
   "outputs": [],
   "source": [
    "models_test_gini_df = pd.read_csv('/home/kate/data/ClaimPrediction/exibit/models_test_gini.csv', index_col=None)"
   ]
  },
  {
   "cell_type": "code",
   "execution_count": 4,
   "metadata": {},
   "outputs": [
    {
     "data": {
      "text/html": [
       "<div>\n",
       "<style>\n",
       "    .dataframe thead tr:only-child th {\n",
       "        text-align: right;\n",
       "    }\n",
       "\n",
       "    .dataframe thead th {\n",
       "        text-align: left;\n",
       "    }\n",
       "\n",
       "    .dataframe tbody tr th {\n",
       "        vertical-align: top;\n",
       "    }\n",
       "</style>\n",
       "<table border=\"1\" class=\"dataframe\">\n",
       "  <thead>\n",
       "    <tr style=\"text-align: right;\">\n",
       "      <th></th>\n",
       "      <th>Model</th>\n",
       "      <th>S0.45</th>\n",
       "      <th>S0.4</th>\n",
       "      <th>S0.35</th>\n",
       "      <th>S0.3</th>\n",
       "      <th>S0.25</th>\n",
       "      <th>S0.2</th>\n",
       "      <th>S0.15</th>\n",
       "      <th>S0.1</th>\n",
       "      <th>Mean</th>\n",
       "      <th>t-pvalue</th>\n",
       "      <th>t-statistic</th>\n",
       "      <th>Group</th>\n",
       "    </tr>\n",
       "  </thead>\n",
       "  <tbody>\n",
       "    <tr>\n",
       "      <th>0</th>\n",
       "      <td>BaseModel</td>\n",
       "      <td>0.409827</td>\n",
       "      <td>0.416889</td>\n",
       "      <td>0.418909</td>\n",
       "      <td>0.418788</td>\n",
       "      <td>0.419003</td>\n",
       "      <td>0.421668</td>\n",
       "      <td>0.419313</td>\n",
       "      <td>0.416097</td>\n",
       "      <td>0.417562</td>\n",
       "      <td>1.000000</td>\n",
       "      <td>0.000000</td>\n",
       "      <td>1</td>\n",
       "    </tr>\n",
       "    <tr>\n",
       "      <th>1</th>\n",
       "      <td>Extended</td>\n",
       "      <td>0.413367</td>\n",
       "      <td>0.419341</td>\n",
       "      <td>0.420991</td>\n",
       "      <td>0.421717</td>\n",
       "      <td>0.420827</td>\n",
       "      <td>0.424555</td>\n",
       "      <td>0.420508</td>\n",
       "      <td>0.420260</td>\n",
       "      <td>0.420196</td>\n",
       "      <td>0.138648</td>\n",
       "      <td>-1.570375</td>\n",
       "      <td>1</td>\n",
       "    </tr>\n",
       "  </tbody>\n",
       "</table>\n",
       "</div>"
      ],
      "text/plain": [
       "       Model     S0.45      S0.4     S0.35      S0.3     S0.25      S0.2  \\\n",
       "0  BaseModel  0.409827  0.416889  0.418909  0.418788  0.419003  0.421668   \n",
       "1   Extended  0.413367  0.419341  0.420991  0.421717  0.420827  0.424555   \n",
       "\n",
       "      S0.15      S0.1      Mean  t-pvalue  t-statistic  Group  \n",
       "0  0.419313  0.416097  0.417562  1.000000     0.000000      1  \n",
       "1  0.420508  0.420260  0.420196  0.138648    -1.570375      1  "
      ]
     },
     "execution_count": 4,
     "metadata": {},
     "output_type": "execute_result"
    }
   ],
   "source": [
    "models_test_gini_df"
   ]
  },
  {
   "cell_type": "code",
   "execution_count": 5,
   "metadata": {
    "collapsed": true
   },
   "outputs": [],
   "source": [
    "models_test_gini_df.set_index('Model', inplace=True)"
   ]
  },
  {
   "cell_type": "code",
   "execution_count": 6,
   "metadata": {
    "collapsed": true
   },
   "outputs": [],
   "source": [
    "import matplotlib.pyplot as plt\n",
    "%matplotlib inline"
   ]
  },
  {
   "cell_type": "code",
   "execution_count": 7,
   "metadata": {
    "collapsed": true
   },
   "outputs": [],
   "source": [
    "colors = {1: 'blue', 2: 'green',3: 'red'}"
   ]
  },
  {
   "cell_type": "code",
   "execution_count": 8,
   "metadata": {},
   "outputs": [
    {
     "data": {
      "text/plain": [
       "<matplotlib.axes._subplots.AxesSubplot at 0x7fc914afb9e8>"
      ]
     },
     "execution_count": 8,
     "metadata": {},
     "output_type": "execute_result"
    },
    {
     "data": {
      "image/png": "[encoded data removed]",
      "text/plain": [
       "<matplotlib.figure.Figure at 0x7fc914adcf98>"
      ]
     },
     "metadata": {},
     "output_type": "display_data"
    }
   ],
   "source": [
    "customcmap = tuple(models_test_gini_df['Group'].map(colors))\n",
    "models_test_gini_df['Mean'].plot(kind='barh',  color=[customcmap], figsize=(10, 12))"
   ]
  }
 ],
 "metadata": {
  "kernelspec": {
   "display_name": "Python 3",
   "language": "python",
   "name": "python3"
  },
  "language_info": {
   "codemirror_mode": {
    "name": "ipython",
    "version": 3
   },
   "file_extension": ".py",
   "mimetype": "text/x-python",
   "name": "python",
   "nbconvert_exporter": "python",
   "pygments_lexer": "ipython3",
   "version": "3.6.3"
  }
 },
 "nbformat": 4,
 "nbformat_minor": 2
}
