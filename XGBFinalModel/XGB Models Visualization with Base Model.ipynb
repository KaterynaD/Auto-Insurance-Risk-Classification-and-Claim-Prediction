{
 "cells": [
  {
   "cell_type": "code",
   "execution_count": 1,
   "metadata": {
    "collapsed": true
   },
   "outputs": [],
   "source": [
    "import pandas as pd\n",
    "import numpy as np\n",
    "import pickle\n",
    "#\n",
    "import matplotlib.pylab as plt\n",
    "%matplotlib inline\n",
    "from matplotlib.pylab import rcParams\n",
    "rcParams['figure.figsize'] = 12, 4"
   ]
  },
  {
   "cell_type": "code",
   "execution_count": 2,
   "metadata": {
    "collapsed": true
   },
   "outputs": [],
   "source": [
    "#data\n",
    "dataset = pd.read_csv('/home/kate/data/ClaimPrediction/fdata_v1_encd.csv', index_col=None)\n",
    "target_column = 'hasclaim'"
   ]
  },
  {
   "cell_type": "code",
   "execution_count": 3,
   "metadata": {
    "collapsed": true
   },
   "outputs": [],
   "source": [
    "featureset=[\n",
    "'acci_last_infractionage',\n",
    "'carpoolind_encd',\n",
    "'classcd_encd',\n",
    "'driverage',\n",
    "'drivernumber',\n",
    "'estimatedannualdistance',\n",
    "'gooddriverind_encd',\n",
    "'maritalstatuscd_encd',\n",
    "'mvrstatus_encd',\n",
    "'mvrstatusage',\n",
    "'ratingvalue',\n",
    "'vehbodytypecd_encd',\n",
    "'vehicleage',\n",
    "'vehnumber',\n",
    "'licenseage',\n",
    "'gendercd_encd'\n",
    "]\n",
    "#add calculated column\n",
    "dataset['licenseage']=dataset['driverage']-dataset['havelicenseage']\n",
    "need_refline_set=['driverage', \n",
    "                  'drivernumber', \n",
    "                  'estimatedannualdistance', \n",
    "                  'ratingvalue',\n",
    "                  'vehicleage',\n",
    "                  'vehnumber',\n",
    "                  'licenseage']"
   ]
  },
  {
   "cell_type": "code",
   "execution_count": 4,
   "metadata": {
    "collapsed": true
   },
   "outputs": [],
   "source": [
    "#models files dir\n",
    "ModelsDir='/home/kate/Models/XGB/'"
   ]
  },
  {
   "cell_type": "code",
   "execution_count": 5,
   "metadata": {
    "collapsed": true
   },
   "outputs": [],
   "source": [
    "import glob\n",
    "ModelsList=glob.glob('%s*.model_licenseage_gender'%ModelsDir)"
   ]
  },
  {
   "cell_type": "code",
   "execution_count": 6,
   "metadata": {
    "collapsed": true
   },
   "outputs": [],
   "source": [
    "#models images files dir\n",
    "ModelsImgDir='/home/kate/Models/XGB/img/'"
   ]
  },
  {
   "cell_type": "code",
   "execution_count": 7,
   "metadata": {
    "collapsed": true
   },
   "outputs": [],
   "source": [
    "#models tables files dir\n",
    "ModelsTblDir='/home/kate/Models/XGB/tbl/'"
   ]
  },
  {
   "cell_type": "code",
   "execution_count": 8,
   "metadata": {
    "collapsed": true
   },
   "outputs": [],
   "source": [
    "#xgb library\n",
    "import xgboost as xgb"
   ]
  },
  {
   "cell_type": "code",
   "execution_count": 9,
   "metadata": {
    "collapsed": true
   },
   "outputs": [],
   "source": [
    "#Evaluation metric to be used in tuning\n",
    "from sklearn.metrics import roc_auc_score,confusion_matrix\n",
    "def gini(y, pred):\n",
    "    g = np.asarray(np.c_[y, pred, np.arange(len(y)) ], dtype=np.float)\n",
    "    g = g[np.lexsort((g[:,2], -1*g[:,1]))]\n",
    "    gs = g[:,0].cumsum().sum() / g[:,0].sum()\n",
    "    gs -= (len(y) + 1) / 2.\n",
    "    return gs / len(y)\n",
    "def gini_xgb(pred, y):\n",
    "    y = y.get_label()\n",
    "    return 'gini', gini(y, pred) / gini(y, y)"
   ]
  },
  {
   "cell_type": "code",
   "execution_count": 10,
   "metadata": {
    "collapsed": true
   },
   "outputs": [],
   "source": [
    "# from https://xiaoxiaowang87.github.io/monotonicity_constraint/\n",
    "def partial_dependency(model, X,  feature):\n",
    "\n",
    "    \"\"\"\n",
    "    Calculate the dependency (or partial dependency) of a response variable on a predictor (or multiple predictors)\n",
    "    1. Sample a grid of values of a predictor for numeric continuous or all unique values for categorical or discrete continuous.\n",
    "    2. For each value, replace every row of that predictor with this value, calculate the average prediction.\n",
    "    \"\"\"\n",
    "\n",
    "    X_temp = X.copy()\n",
    "    \n",
    "    if feature in ['estimatedannualdistance','ratingvalue']:\n",
    "        # continuous\n",
    "        grid = np.linspace(np.percentile(X_temp[feature], 0.1),\n",
    "                       np.percentile(X_temp[feature], 99.5),\n",
    "                       50)\n",
    "    else:\n",
    "        #categorical\n",
    "        grid = X_temp[feature].unique()\n",
    "\n",
    "    y_pred = np.zeros(len(grid))\n",
    "\n",
    "    for i, val in enumerate(grid):\n",
    "        X_temp[feature] = val\n",
    "        d_temp=xgb.DMatrix(X_temp.values)\n",
    "        y_pred[i] = np.average(model.predict(d_temp))\n",
    "\n",
    "    return grid, y_pred"
   ]
  },
  {
   "cell_type": "code",
   "execution_count": 11,
   "metadata": {
    "collapsed": true
   },
   "outputs": [],
   "source": [
    "#splitting to train/test \n",
    "from sklearn.model_selection import train_test_split\n",
    "X, X_test, y, y_test = train_test_split(dataset.loc[:,featureset], dataset[target_column], test_size=0.2, random_state=42)"
   ]
  },
  {
   "cell_type": "code",
   "execution_count": 12,
   "metadata": {},
   "outputs": [
    {
     "name": "stdout",
     "output_type": "stream",
     "text": [
      "/home/kate/Models/XGB/m_9.model_licenseage_gender\n",
      "acci_last_infractionage\n",
      "carpoolind_encd\n",
      "classcd_encd\n",
      "gooddriverind_encd\n",
      "maritalstatuscd_encd\n",
      "mvrstatus_encd\n",
      "mvrstatusage\n",
      "vehbodytypecd_encd\n",
      "gendercd_encd\n",
      "/home/kate/Models/XGB/m_5.model_licenseage_gender\n",
      "acci_last_infractionage\n",
      "carpoolind_encd\n",
      "classcd_encd\n",
      "gooddriverind_encd\n",
      "maritalstatuscd_encd\n",
      "mvrstatus_encd\n",
      "mvrstatusage\n",
      "vehbodytypecd_encd\n",
      "gendercd_encd\n",
      "/home/kate/Models/XGB/m_0.model_licenseage_gender\n",
      "acci_last_infractionage\n",
      "carpoolind_encd\n",
      "classcd_encd\n",
      "gooddriverind_encd\n",
      "maritalstatuscd_encd\n",
      "mvrstatus_encd\n",
      "mvrstatusage\n",
      "vehbodytypecd_encd\n",
      "gendercd_encd\n",
      "/home/kate/Models/XGB/m_2.model_licenseage_gender\n",
      "acci_last_infractionage\n",
      "carpoolind_encd\n",
      "classcd_encd\n",
      "gooddriverind_encd\n",
      "maritalstatuscd_encd\n",
      "mvrstatus_encd\n",
      "mvrstatusage\n",
      "vehbodytypecd_encd\n",
      "gendercd_encd\n",
      "/home/kate/Models/XGB/m_3.model_licenseage_gender\n",
      "acci_last_infractionage\n",
      "carpoolind_encd\n",
      "classcd_encd\n",
      "gooddriverind_encd\n",
      "maritalstatuscd_encd\n",
      "mvrstatus_encd\n",
      "mvrstatusage\n",
      "vehbodytypecd_encd\n",
      "gendercd_encd\n",
      "/home/kate/Models/XGB/m_1.model_licenseage_gender\n",
      "acci_last_infractionage\n",
      "carpoolind_encd\n",
      "classcd_encd\n",
      "gooddriverind_encd\n",
      "maritalstatuscd_encd\n",
      "mvrstatus_encd\n",
      "mvrstatusage\n",
      "vehbodytypecd_encd\n",
      "gendercd_encd\n",
      "/home/kate/Models/XGB/m_6.model_licenseage_gender\n",
      "acci_last_infractionage\n",
      "carpoolind_encd\n",
      "classcd_encd\n",
      "gooddriverind_encd\n",
      "maritalstatuscd_encd\n",
      "mvrstatus_encd\n",
      "mvrstatusage\n",
      "vehbodytypecd_encd\n",
      "gendercd_encd\n",
      "/home/kate/Models/XGB/m_4.model_licenseage_gender\n",
      "acci_last_infractionage\n",
      "carpoolind_encd\n",
      "classcd_encd\n",
      "gooddriverind_encd\n",
      "maritalstatuscd_encd\n",
      "mvrstatus_encd\n",
      "mvrstatusage\n",
      "vehbodytypecd_encd\n",
      "gendercd_encd\n",
      "/home/kate/Models/XGB/m_7.model_licenseage_gender\n",
      "acci_last_infractionage\n",
      "carpoolind_encd\n",
      "classcd_encd\n",
      "gooddriverind_encd\n",
      "maritalstatuscd_encd\n",
      "mvrstatus_encd\n",
      "mvrstatusage\n",
      "vehbodytypecd_encd\n",
      "gendercd_encd\n",
      "/home/kate/Models/XGB/m_8.model_licenseage_gender\n",
      "acci_last_infractionage\n",
      "carpoolind_encd\n",
      "classcd_encd\n",
      "gooddriverind_encd\n",
      "maritalstatuscd_encd\n",
      "mvrstatus_encd\n",
      "mvrstatusage\n",
      "vehbodytypecd_encd\n",
      "gendercd_encd\n"
     ]
    }
   ],
   "source": [
    "#prediction dataframes\n",
    "y_pred_test=pd.DataFrame(index=y_test.index)\n",
    "y_pred_test[target_column]=0\n",
    "kfold = 10\n",
    "for xgb_model_file in ModelsList:\n",
    "    print(xgb_model_file)\n",
    "    ModelName='Model '+xgb_model_file[24:25]\n",
    "    #load saved model\n",
    "    xgb_model = pickle.load(open(xgb_model_file, 'rb'))\n",
    "    #prediction\n",
    "    d_test=xgb.DMatrix(X_test.values)\n",
    "    y_pred_test[target_column] +=  xgb_model.predict(d_test, ntree_limit=xgb_model.best_ntree_limit+50) / (kfold)\n",
    "    #feature importance\n",
    "    feat_imp = pd.Series(xgb_model.get_fscore()).sort_values(ascending=False)\n",
    "    #feat_imp.plot(kind='bar', title='Feature Importances in  %s'%ModelName)\n",
    "    #plt.ylabel('Feature Importance Score')\n",
    "    #plt.show()\n",
    "    #plt.savefig(ModelsImgDir+'FE %s.png'%ModelName)   \n",
    "    feat_imp.to_csv(ModelsTblDir+'GL Feature Importance %s.csv'%ModelName)\n",
    "    #partial dependency\n",
    "    for f in featureset:\n",
    "        if f in need_refline_set:\n",
    "            continue\n",
    "        print(f)\n",
    "        #model partial dependency mpd dataframe\n",
    "        grid, y_pred = partial_dependency(xgb_model,X,f)\n",
    "        mpd=pd.concat([pd.Series(grid), pd.Series(y_pred)], axis=1)\n",
    "        mpd.columns=[f,'pd']\n",
    "\n",
    "        #real values binned for continuous or as is for categorical\n",
    "        if f in ['estimatedannualdistance','ratingvalue']:\n",
    "            rv=pd.concat([pd.Series(X[f]), pd.Series(y)], axis=1)\n",
    "            feature_bucket_array = np.linspace(np.percentile(X[f], 0.1),\n",
    "                       np.percentile(X[f], 99.5),\n",
    "                       50)\n",
    "            feature_bucket_array=np.insert(feature_bucket_array, 0, (X[f].min()-X[f].max()/2))\n",
    "            feature_bucket_array=np.insert(feature_bucket_array, len(feature_bucket_array), (X[f].max()+X[f].max()/2))\n",
    "            dummy=pd.DataFrame(feature_bucket_array)\n",
    "            dummy.columns=[f]\n",
    "            rv['bin'] = pd.cut(rv[f], feature_bucket_array)\n",
    "            rv_grp=pd.concat([rv.groupby('bin')['hasclaim'].sum(),rv.groupby('bin')[f].count()], axis=1)\n",
    "            rv_grp.columns=['hasclaim','count']\n",
    "            rv_grp.reset_index(inplace=True)\n",
    "            rv_grp=pd.concat([rv_grp,dummy], axis=1)\n",
    "            rv_grp.dropna(inplace=True)\n",
    "        else:\n",
    "            rv=pd.concat([pd.Series(X[f]), pd.Series(y)], axis=1)\n",
    "            rv_grp=pd.concat([rv.groupby(f)['hasclaim'].sum(),rv.groupby(f)[f].count()], axis=1)\n",
    "            rv_grp.columns=['hasclaim','count']\n",
    "            rv_grp.reset_index(inplace=True)\n",
    "\n",
    "        if '_encd' in f:\n",
    "            mpd_grp=pd.merge(mpd, rv_grp, on=f)\n",
    "            \n",
    "            #codes dictionary\n",
    "            f_dict=dataset[[f.replace('_encd',''),f]].set_index(f).to_dict()\n",
    "            f_dict_df=pd.DataFrame.from_dict(f_dict).reset_index()\n",
    "            f_dict_df.columns=[f,f.replace('_encd','')]\n",
    "            \n",
    "            pd.merge(mpd_grp, f_dict_df, on=f).to_csv(ModelsTblDir+'GL PD %s %s.csv'%(ModelName,f))\n",
    "        else:\n",
    "            pd.merge(mpd, rv_grp, on=f).to_csv(ModelsTblDir+'GL PD %s %s.csv'%(ModelName,f))\n",
    "\n",
    "        #fig, ax = plt.subplots()\n",
    "        #fig.set_size_inches(8, 8)\n",
    "        #plt.subplots_adjust(left = 0.17, right = 0.94, bottom = 0.15, top = 0.9)\n",
    "\n",
    "        #ax.plot(grid, y_pred, '-', color = 'red', linewidth = 2.5, label='fit')\n",
    "        #ax.plot(X[f], y, 'o', color = 'grey', alpha = 0.01)\n",
    "\n",
    "        #ax.set_xlim(min(grid), max(grid))\n",
    "        #ax.set_ylim(0.95 * min(y_pred), 1.05 * max(y_pred))\n",
    "\n",
    "        #ax.set_xlabel(f, fontsize = 24)\n",
    "        #ax.set_ylabel('Partial Dependence', fontsize = 24)\n",
    "        #ax.set_title(ModelName, fontsize = 24)\n",
    "\n",
    "        #plt.xticks(fontsize=20)\n",
    "        #plt.yticks(fontsize=20)\n",
    "\n",
    "        #plt.show()\n",
    "        #plt.savefig(ModelsImgDir+'PD %s %s.png'%(ModelName,f))"
   ]
  },
  {
   "cell_type": "code",
   "execution_count": 13,
   "metadata": {},
   "outputs": [
    {
     "name": "stdout",
     "output_type": "stream",
     "text": [
      "Test Gini - 0.420893\n",
      "Test ROC_AUC - 0.710447\n",
      "\n",
      "Confusion matrix\n",
      "\n",
      "TP=930 FP=9727\n",
      "FN=420 TN=15498\n"
     ]
    }
   ],
   "source": [
    "#Prediction results\n",
    "g=gini(y_test,y_pred_test)/gini(y_test,y_test)\n",
    "print('Test Gini - %f'%g)\n",
    "\n",
    "ROC_AUC=roc_auc_score(y_test, y_pred_test)\n",
    "print('Test ROC_AUC - %f'%ROC_AUC)\n",
    "\n",
    "#mean prediction value to convert to binary\n",
    "m=y_pred_test.mean()\n",
    "\n",
    "y_pred_test[y_pred_test >= m] = 1\n",
    "y_pred_test[y_pred_test < m] = 0\n",
    "\n",
    "print ('\\nConfusion matrix\\n')    \n",
    "tn, fp, fn, tp = confusion_matrix(y_test, y_pred_test).ravel()\n",
    "print('TP=%d FP=%d'%(tp,fp))\n",
    "print('FN=%d TN=%d'%(fn,tn))"
   ]
  }
 ],
 "metadata": {
  "anaconda-cloud": {},
  "kernelspec": {
   "display_name": "Python 3",
   "language": "python",
   "name": "python3"
  },
  "language_info": {
   "codemirror_mode": {
    "name": "ipython",
    "version": 3
   },
   "file_extension": ".py",
   "mimetype": "text/x-python",
   "name": "python",
   "nbconvert_exporter": "python",
   "pygments_lexer": "ipython3",
   "version": "3.6.3"
  }
 },
 "nbformat": 4,
 "nbformat_minor": 1
}
