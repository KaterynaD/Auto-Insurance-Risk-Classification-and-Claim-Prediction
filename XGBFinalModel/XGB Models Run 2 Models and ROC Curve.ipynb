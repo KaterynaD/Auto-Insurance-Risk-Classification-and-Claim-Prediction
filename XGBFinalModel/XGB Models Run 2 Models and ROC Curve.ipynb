{
 "cells": [
  {
   "cell_type": "code",
   "execution_count": 1,
   "metadata": {
    "collapsed": true
   },
   "outputs": [],
   "source": [
    "import pandas as pd\n",
    "import numpy as np\n",
    "import pickle"
   ]
  },
  {
   "cell_type": "code",
   "execution_count": 2,
   "metadata": {
    "collapsed": true
   },
   "outputs": [],
   "source": [
    "#data\n",
    "dataset = pd.read_csv('/home/kate/data/ClaimPrediction/fdata_v1_encd.csv', index_col=None)\n",
    "target_column = 'hasclaim'"
   ]
  },
  {
   "cell_type": "code",
   "execution_count": 3,
   "metadata": {
    "collapsed": true
   },
   "outputs": [],
   "source": [
    "featureset=[\n",
    "'acci_last_infractionage',\n",
    "'carpoolind_encd',\n",
    "'classcd_encd',\n",
    "'driverage',\n",
    "'drivernumber',\n",
    "'estimatedannualdistance',\n",
    "'gooddriverind_encd',\n",
    "'maritalstatuscd_encd',\n",
    "'mvrstatus_encd',\n",
    "'mvrstatusage',\n",
    "'ratingvalue',\n",
    "'vehbodytypecd_encd',\n",
    "'vehicleage',\n",
    "'vehnumber',\n",
    "'licenseage',\n",
    "'gendercd_encd'\n",
    "]\n",
    "#add calculated column\n",
    "dataset['licenseage']=dataset['driverage']-dataset['havelicenseage']"
   ]
  },
  {
   "cell_type": "code",
   "execution_count": 4,
   "metadata": {
    "collapsed": true
   },
   "outputs": [],
   "source": [
    "featureset_extended=[\n",
    "'acci_last_infractionage',\n",
    "'carpoolind_encd',\n",
    "'classcd_encd',\n",
    "'driverage',\n",
    "'drivernumber',\n",
    "'estimatedannualdistance',\n",
    "'gooddriverind_encd',\n",
    "'maritalstatuscd_encd',\n",
    "'mvrstatus_encd',\n",
    "'mvrstatusage',\n",
    "'ratingvalue',\n",
    "'vehbodytypecd_encd',\n",
    "'vehicleage',\n",
    "'vehnumber',\n",
    "'licenseage',\n",
    "'gendercd_encd',\n",
    "'external_length_in',\n",
    "'external_width_in'\n",
    "]"
   ]
  },
  {
   "cell_type": "code",
   "execution_count": 5,
   "metadata": {
    "collapsed": true
   },
   "outputs": [],
   "source": [
    "#models files dir\n",
    "ModelsDir='/home/kate/Models/XGB/'"
   ]
  },
  {
   "cell_type": "code",
   "execution_count": 6,
   "metadata": {
    "collapsed": true
   },
   "outputs": [],
   "source": [
    "import glob\n",
    "ModelsList=glob.glob('%s*.model_licenseage_gender'%ModelsDir)\n",
    "ModelsList_Extended=glob.glob('%s*.model_with_all'%ModelsDir)"
   ]
  },
  {
   "cell_type": "code",
   "execution_count": 7,
   "metadata": {
    "collapsed": true
   },
   "outputs": [],
   "source": [
    "#xgb library\n",
    "import xgboost as xgb"
   ]
  },
  {
   "cell_type": "code",
   "execution_count": 8,
   "metadata": {
    "collapsed": true
   },
   "outputs": [],
   "source": [
    "#Evaluation metric to be used in tuning\n",
    "from sklearn.metrics import roc_auc_score,confusion_matrix,roc_curve,auc\n",
    "def gini(y, pred):\n",
    "    g = np.asarray(np.c_[y, pred, np.arange(len(y)) ], dtype=np.float)\n",
    "    g = g[np.lexsort((g[:,2], -1*g[:,1]))]\n",
    "    gs = g[:,0].cumsum().sum() / g[:,0].sum()\n",
    "    gs -= (len(y) + 1) / 2.\n",
    "    return gs / len(y)\n",
    "def gini_xgb(pred, y):\n",
    "    y = y.get_label()\n",
    "    return 'gini', gini(y, pred) / gini(y, y)"
   ]
  },
  {
   "cell_type": "code",
   "execution_count": 9,
   "metadata": {
    "collapsed": true
   },
   "outputs": [],
   "source": [
    "#Visualization\n",
    "import matplotlib.pyplot as plt\n",
    "import seaborn as sns\n",
    "%matplotlib inline\n",
    "def ROCCurves (Actual, Predicted):\n",
    "    '''\n",
    "    Plot ROC curves for the multiclass problem\n",
    "    based on http://scikit-learn.org/stable/auto_examples/model_selection/plot_roc.html\n",
    "    '''\n",
    "    # Compute ROC curve and ROC area for each class\n",
    "    n_classes=2\n",
    "    fpr = dict()\n",
    "    tpr = dict()\n",
    "    roc_auc = dict()\n",
    "    for i in range(n_classes):\n",
    "        fpr[i], tpr[i], _ = roc_curve(Actual.values, Predicted)\n",
    "        roc_auc[i] = auc(fpr[i], tpr[i])\n",
    "\n",
    "\n",
    "    ##############################################################################\n",
    "    # Plot ROC curves for the multiclass problem\n",
    "\n",
    "    # Compute macro-average ROC curve and ROC area\n",
    "\n",
    "    # First aggregate all false positive rates\n",
    "\n",
    "    all_fpr = np.unique(np.concatenate([fpr[i] for i in range(n_classes)]))\n",
    "\n",
    "    # Then interpolate all ROC curves at this points\n",
    "    mean_tpr = np.zeros_like(all_fpr)\n",
    "    for i in range(n_classes):\n",
    "        mean_tpr += np.interp(all_fpr, fpr[i], tpr[i])\n",
    "\n",
    "    # Finally average it and compute AUC\n",
    "    mean_tpr /= n_classes\n",
    "    \n",
    "    return fpr[1],tpr[1],roc_auc[1]\n",
    "\n",
    "\n",
    "def plotROCCurves (fpr1,tpr1,roc_auc1,label1,fpr2,tpr2,roc_auc2,label2):\n",
    "        # Plot all ROC curves\n",
    "    plt.figure()\n",
    "    plt.plot(fpr1, tpr1, label=label1.format(roc_auc1))\n",
    "    plt.plot(fpr2, tpr2, label=label2.format(roc_auc2))\n",
    "    \n",
    "    plt.plot([0, 1], [0, 1], 'k--')\n",
    "    plt.xlim([0.0, 1.0])\n",
    "    plt.ylim([0.0, 1.05])\n",
    "    plt.xlabel('False Positive Rate')\n",
    "    plt.ylabel('True Positive Rate')\n",
    "    plt.title('ROC Curve')\n",
    "    plt.legend(loc=\"lower right\")"
   ]
  },
  {
   "cell_type": "code",
   "execution_count": 10,
   "metadata": {
    "collapsed": true
   },
   "outputs": [],
   "source": [
    "#splitting to train/test \n",
    "from sklearn.model_selection import train_test_split\n",
    "X, X_test, y, y_test = train_test_split(dataset.loc[:,featureset], dataset[target_column], test_size=0.2, random_state=42)"
   ]
  },
  {
   "cell_type": "code",
   "execution_count": 11,
   "metadata": {},
   "outputs": [
    {
     "name": "stdout",
     "output_type": "stream",
     "text": [
      "/home/kate/Models/XGB/m_9.model_licenseage_gender\n",
      "/home/kate/Models/XGB/m_5.model_licenseage_gender\n",
      "/home/kate/Models/XGB/m_0.model_licenseage_gender\n",
      "/home/kate/Models/XGB/m_2.model_licenseage_gender\n",
      "/home/kate/Models/XGB/m_3.model_licenseage_gender\n",
      "/home/kate/Models/XGB/m_1.model_licenseage_gender\n",
      "/home/kate/Models/XGB/m_6.model_licenseage_gender\n",
      "/home/kate/Models/XGB/m_4.model_licenseage_gender\n",
      "/home/kate/Models/XGB/m_7.model_licenseage_gender\n",
      "/home/kate/Models/XGB/m_8.model_licenseage_gender\n"
     ]
    }
   ],
   "source": [
    "#prediction dataframes\n",
    "y_pred_test=pd.DataFrame(index=y_test.index)\n",
    "y_pred_test[target_column]=0\n",
    "kfold = 10\n",
    "\n",
    "for xgb_model_file in ModelsList:\n",
    "    print(xgb_model_file)\n",
    "    #load saved model\n",
    "    xgb_model = pickle.load(open(xgb_model_file, 'rb'))\n",
    "    #prediction\n",
    "    d_test=xgb.DMatrix(X_test.values)\n",
    "    y_pred_test[target_column] +=  xgb_model.predict(d_test, ntree_limit=xgb_model.best_ntree_limit+50) / (kfold)\n",
    "    \n"
   ]
  },
  {
   "cell_type": "code",
   "execution_count": 12,
   "metadata": {
    "collapsed": true
   },
   "outputs": [],
   "source": [
    "#Extended\n",
    "X, X_test, y, y_test = train_test_split(dataset.loc[:,featureset_extended], dataset[target_column], test_size=0.2, random_state=42)"
   ]
  },
  {
   "cell_type": "code",
   "execution_count": 13,
   "metadata": {},
   "outputs": [
    {
     "name": "stdout",
     "output_type": "stream",
     "text": [
      "/home/kate/Models/XGB/m_3.model_with_all\n",
      "/home/kate/Models/XGB/m_7.model_with_all\n",
      "/home/kate/Models/XGB/m_0.model_with_all\n",
      "/home/kate/Models/XGB/m_1.model_with_all\n",
      "/home/kate/Models/XGB/m_8.model_with_all\n",
      "/home/kate/Models/XGB/m_6.model_with_all\n",
      "/home/kate/Models/XGB/m_5.model_with_all\n",
      "/home/kate/Models/XGB/m_2.model_with_all\n",
      "/home/kate/Models/XGB/m_9.model_with_all\n",
      "/home/kate/Models/XGB/m_4.model_with_all\n"
     ]
    }
   ],
   "source": [
    "#prediction dataframes\n",
    "y_pred_test_extended=pd.DataFrame(index=y_test.index)\n",
    "y_pred_test_extended[target_column]=0\n",
    "kfold = 10\n",
    "\n",
    "for xgb_model_file in ModelsList_Extended:\n",
    "    print(xgb_model_file)\n",
    "    #load saved model\n",
    "    xgb_model = pickle.load(open(xgb_model_file, 'rb'))\n",
    "    #prediction\n",
    "    d_test=xgb.DMatrix(X_test.values)\n",
    "    y_pred_test_extended[target_column] +=  xgb_model.predict(d_test, ntree_limit=xgb_model.best_ntree_limit+50) / (kfold)"
   ]
  },
  {
   "cell_type": "code",
   "execution_count": 19,
   "metadata": {},
   "outputs": [
    {
     "data": {
      "image/png": "[encoded data removed]",
      "text/plain": [
       "<matplotlib.figure.Figure at 0x7f9b5f812b38>"
      ]
     },
     "metadata": {},
     "output_type": "display_data"
    }
   ],
   "source": [
    "fpr1,tpr1,roc_auc1=ROCCurves (y_test, y_pred_test)\n",
    "label1='Base Model (area = {0:0.3f})'\n",
    "fpr2,tpr2,roc_auc2=ROCCurves (y_test, y_pred_test_extended)\n",
    "label2='Extended Model (area = {0:0.3f})'\n",
    "plotROCCurves(fpr1,tpr1,roc_auc1,label1,fpr2,tpr2,roc_auc2,label2)"
   ]
  }
 ],
 "metadata": {
  "anaconda-cloud": {},
  "kernelspec": {
   "display_name": "Python 3",
   "language": "python",
   "name": "python3"
  },
  "language_info": {
   "codemirror_mode": {
    "name": "ipython",
    "version": 3
   },
   "file_extension": ".py",
   "mimetype": "text/x-python",
   "name": "python",
   "nbconvert_exporter": "python",
   "pygments_lexer": "ipython3",
   "version": "3.6.3"
  }
 },
 "nbformat": 4,
 "nbformat_minor": 1
}
