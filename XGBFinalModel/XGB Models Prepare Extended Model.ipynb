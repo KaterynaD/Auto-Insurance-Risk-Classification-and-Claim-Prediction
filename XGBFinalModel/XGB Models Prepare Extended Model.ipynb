{
 "cells": [
  {
   "cell_type": "code",
   "execution_count": 15,
   "metadata": {
    "collapsed": true
   },
   "outputs": [],
   "source": [
    "import pandas as pd\n",
    "import numpy as np\n",
    "import pickle"
   ]
  },
  {
   "cell_type": "code",
   "execution_count": 16,
   "metadata": {
    "collapsed": true
   },
   "outputs": [],
   "source": [
    "#data\n",
    "dataset = pd.read_csv('/home/kate/data/ClaimPrediction/fdata_v1_encd.csv', index_col=None)\n",
    "target_column = 'hasclaim'"
   ]
  },
  {
   "cell_type": "code",
   "execution_count": 17,
   "metadata": {
    "collapsed": true
   },
   "outputs": [],
   "source": [
    "featureset=[\n",
    "'acci_last_infractionage',\n",
    "'carpoolind_encd',\n",
    "'classcd_encd',\n",
    "'driverage',\n",
    "'drivernumber',\n",
    "'estimatedannualdistance',\n",
    "'gooddriverind_encd',\n",
    "'maritalstatuscd_encd',\n",
    "'mvrstatus_encd',\n",
    "'mvrstatusage',\n",
    "'ratingvalue',\n",
    "'vehbodytypecd_encd',\n",
    "'vehicleage',\n",
    "'vehnumber',\n",
    "'licenseage',\n",
    "'gendercd_encd',\n",
    "'external_length_in',\n",
    "'external_width_in'\n",
    "]\n",
    "#add calculated column\n",
    "dataset['licenseage']=dataset['driverage']-dataset['havelicenseage']"
   ]
  },
  {
   "cell_type": "code",
   "execution_count": 18,
   "metadata": {
    "collapsed": true
   },
   "outputs": [],
   "source": [
    "#models files dir\n",
    "ModelsDir='/home/kate/Models/XGB/'"
   ]
  },
  {
   "cell_type": "code",
   "execution_count": 19,
   "metadata": {
    "collapsed": true
   },
   "outputs": [],
   "source": [
    "#xgb library and parameters\n",
    "import xgboost as xgb\n",
    "\n",
    "xgb_params = {\n",
    "        'objective': 'binary:logistic',\n",
    "        'eval_metric': 'auc',\n",
    "        'silent': True,\n",
    "        'booster': 'gbtree',\n",
    "        'seed': 42,\n",
    "        'scale_pos_weight':0.3,\n",
    "        'colsample_bylevel': 0.232094506,\n",
    "        'colsample_bytree': 0.978684648,\n",
    "        'eta': 0.01208041,\n",
    "        'max_depth': 4}\n"
   ]
  },
  {
   "cell_type": "code",
   "execution_count": 20,
   "metadata": {
    "collapsed": true
   },
   "outputs": [],
   "source": [
    "#Evaluation metric to be used in tuning\n",
    "from sklearn.metrics import roc_auc_score,confusion_matrix\n",
    "def gini(y, pred):\n",
    "    g = np.asarray(np.c_[y, pred, np.arange(len(y)) ], dtype=np.float)\n",
    "    g = g[np.lexsort((g[:,2], -1*g[:,1]))]\n",
    "    gs = g[:,0].cumsum().sum() / g[:,0].sum()\n",
    "    gs -= (len(y) + 1) / 2.\n",
    "    return gs / len(y)\n",
    "def gini_xgb(pred, y):\n",
    "    y = y.get_label()\n",
    "    return 'gini', gini(y, pred) / gini(y, y)"
   ]
  },
  {
   "cell_type": "code",
   "execution_count": 21,
   "metadata": {
    "collapsed": true
   },
   "outputs": [],
   "source": [
    "#StratifiedKFold\n",
    "from sklearn.model_selection import StratifiedKFold\n",
    "nrounds=5000 # need to change to 2000\n",
    "kfold = 10  # need to change to 10\n",
    "skf = StratifiedKFold(n_splits=kfold, random_state=42)"
   ]
  },
  {
   "cell_type": "code",
   "execution_count": 22,
   "metadata": {
    "collapsed": true
   },
   "outputs": [],
   "source": [
    "#splitting to train/test \n",
    "from sklearn.model_selection import train_test_split\n",
    "X, X_test, y, y_test = train_test_split(dataset.loc[:,featureset], dataset[target_column], test_size=0.2, random_state=42)"
   ]
  },
  {
   "cell_type": "code",
   "execution_count": 23,
   "metadata": {},
   "outputs": [
    {
     "name": "stdout",
     "output_type": "stream",
     "text": [
      " xgb kfold: 1  of  10 : \n",
      "[0]\ttrain-auc:0.553876\tvalid-auc:0.574667\ttrain-gini:0.111422\tvalid-gini:0.149707\n",
      "Multiple eval metrics have been passed: 'valid-gini' will be used for early stopping.\n",
      "\n",
      "Will train until valid-gini hasn't improved in 100 rounds.\n",
      "[1000]\ttrain-auc:0.732396\tvalid-auc:0.708472\ttrain-gini:0.464791\tvalid-gini:0.416944\n",
      "Stopping. Best iteration:\n",
      "[1766]\ttrain-auc:0.747059\tvalid-auc:0.710901\ttrain-gini:0.494118\tvalid-gini:0.421803\n",
      "\n",
      " xgb kfold: 2  of  10 : \n",
      "[0]\ttrain-auc:0.556982\tvalid-auc:0.546742\ttrain-gini:0.116147\tvalid-gini:0.178519\n",
      "Multiple eval metrics have been passed: 'valid-gini' will be used for early stopping.\n",
      "\n",
      "Will train until valid-gini hasn't improved in 100 rounds.\n",
      "[1000]\ttrain-auc:0.732778\tvalid-auc:0.709573\ttrain-gini:0.465556\tvalid-gini:0.419148\n",
      "Stopping. Best iteration:\n",
      "[1200]\ttrain-auc:0.737085\tvalid-auc:0.710284\ttrain-gini:0.474169\tvalid-gini:0.420569\n",
      "\n",
      " xgb kfold: 3  of  10 : \n",
      "[0]\ttrain-auc:0.555479\tvalid-auc:0.560258\ttrain-gini:0.113625\tvalid-gini:0.17945\n",
      "Multiple eval metrics have been passed: 'valid-gini' will be used for early stopping.\n",
      "\n",
      "Will train until valid-gini hasn't improved in 100 rounds.\n",
      "[1000]\ttrain-auc:0.732269\tvalid-auc:0.704109\ttrain-gini:0.464539\tvalid-gini:0.408218\n",
      "[2000]\ttrain-auc:0.749894\tvalid-auc:0.710748\ttrain-gini:0.499789\tvalid-gini:0.421496\n",
      "Stopping. Best iteration:\n",
      "[2335]\ttrain-auc:0.755444\tvalid-auc:0.711194\ttrain-gini:0.510888\tvalid-gini:0.422388\n",
      "\n",
      " xgb kfold: 4  of  10 : \n",
      "[0]\ttrain-auc:0.556634\tvalid-auc:0.549873\ttrain-gini:0.116536\tvalid-gini:0.109745\n",
      "Multiple eval metrics have been passed: 'valid-gini' will be used for early stopping.\n",
      "\n",
      "Will train until valid-gini hasn't improved in 100 rounds.\n",
      "[1000]\ttrain-auc:0.733926\tvalid-auc:0.699433\ttrain-gini:0.467852\tvalid-gini:0.398866\n",
      "Stopping. Best iteration:\n",
      "[1258]\ttrain-auc:0.738841\tvalid-auc:0.700345\ttrain-gini:0.477682\tvalid-gini:0.400689\n",
      "\n",
      " xgb kfold: 5  of  10 : \n",
      "[0]\ttrain-auc:0.555201\tvalid-auc:0.562766\ttrain-gini:0.114105\tvalid-gini:0.10492\n",
      "Multiple eval metrics have been passed: 'valid-gini' will be used for early stopping.\n",
      "\n",
      "Will train until valid-gini hasn't improved in 100 rounds.\n",
      "[1000]\ttrain-auc:0.73204\tvalid-auc:0.713995\ttrain-gini:0.46408\tvalid-gini:0.427988\n",
      "Stopping. Best iteration:\n",
      "[1645]\ttrain-auc:0.743525\tvalid-auc:0.716028\ttrain-gini:0.487051\tvalid-gini:0.432057\n",
      "\n",
      " xgb kfold: 6  of  10 : \n",
      "[0]\ttrain-auc:0.557491\tvalid-auc:0.542148\ttrain-gini:0.118446\tvalid-gini:0.081545\n",
      "Multiple eval metrics have been passed: 'valid-gini' will be used for early stopping.\n",
      "\n",
      "Will train until valid-gini hasn't improved in 100 rounds.\n",
      "[1000]\ttrain-auc:0.732196\tvalid-auc:0.704906\ttrain-gini:0.464392\tvalid-gini:0.409811\n",
      "Stopping. Best iteration:\n",
      "[1881]\ttrain-auc:0.749126\tvalid-auc:0.710299\ttrain-gini:0.498253\tvalid-gini:0.420598\n",
      "\n",
      " xgb kfold: 7  of  10 : \n",
      "[0]\ttrain-auc:0.555668\tvalid-auc:0.558558\ttrain-gini:0.114549\tvalid-gini:0.134862\n",
      "Multiple eval metrics have been passed: 'valid-gini' will be used for early stopping.\n",
      "\n",
      "Will train until valid-gini hasn't improved in 100 rounds.\n",
      "[1000]\ttrain-auc:0.732117\tvalid-auc:0.712111\ttrain-gini:0.464234\tvalid-gini:0.424222\n",
      "Stopping. Best iteration:\n",
      "[1495]\ttrain-auc:0.74201\tvalid-auc:0.713554\ttrain-gini:0.484021\tvalid-gini:0.427109\n",
      "\n",
      " xgb kfold: 8  of  10 : \n",
      "[0]\ttrain-auc:0.556353\tvalid-auc:0.552388\ttrain-gini:0.115699\tvalid-gini:0.141797\n",
      "Multiple eval metrics have been passed: 'valid-gini' will be used for early stopping.\n",
      "\n",
      "Will train until valid-gini hasn't improved in 100 rounds.\n",
      "[1000]\ttrain-auc:0.732452\tvalid-auc:0.709277\ttrain-gini:0.464904\tvalid-gini:0.418555\n",
      "Stopping. Best iteration:\n",
      "[1879]\ttrain-auc:0.747315\tvalid-auc:0.713637\ttrain-gini:0.494631\tvalid-gini:0.427274\n",
      "\n",
      " xgb kfold: 9  of  10 : \n",
      "[0]\ttrain-auc:0.55475\tvalid-auc:0.566831\ttrain-gini:0.112062\tvalid-gini:0.184035\n",
      "Multiple eval metrics have been passed: 'valid-gini' will be used for early stopping.\n",
      "\n",
      "Will train until valid-gini hasn't improved in 100 rounds.\n",
      "[1000]\ttrain-auc:0.734474\tvalid-auc:0.692319\ttrain-gini:0.468948\tvalid-gini:0.384636\n",
      "[2000]\ttrain-auc:0.75117\tvalid-auc:0.695072\ttrain-gini:0.50234\tvalid-gini:0.390143\n",
      "Stopping. Best iteration:\n",
      "[2238]\ttrain-auc:0.754796\tvalid-auc:0.695344\ttrain-gini:0.509591\tvalid-gini:0.390687\n",
      "\n",
      " xgb kfold: 10  of  10 : \n",
      "[0]\ttrain-auc:0.557138\tvalid-auc:0.545323\ttrain-gini:0.117342\tvalid-gini:0.130671\n",
      "Multiple eval metrics have been passed: 'valid-gini' will be used for early stopping.\n",
      "\n",
      "Will train until valid-gini hasn't improved in 100 rounds.\n",
      "[1000]\ttrain-auc:0.731023\tvalid-auc:0.712129\ttrain-gini:0.462045\tvalid-gini:0.424257\n",
      "Stopping. Best iteration:\n",
      "[1802]\ttrain-auc:0.744779\tvalid-auc:0.716197\ttrain-gini:0.489558\tvalid-gini:0.432394\n",
      "\n"
     ]
    }
   ],
   "source": [
    "#prediction dataframes\n",
    "y_pred_test=pd.DataFrame(index=y_test.index)\n",
    "y_pred_test[target_column]=0\n",
    "\n",
    "#Stratified Fold\n",
    "for i, (train_index, test_index) in enumerate(skf.split(X, y)):\n",
    "    print(' xgb kfold: {}  of  {} : '.format(i+1, kfold))\n",
    "    #getting fold data\n",
    "    X_train, X_valid = X.iloc[train_index,:].copy(), X.iloc[test_index,:].copy()\n",
    "    y_train, y_valid = y.iloc[train_index], y.iloc[test_index]\n",
    "    \n",
    "    #preparing for XGB run\n",
    "    X_train = X_train.values\n",
    "    X_valid = X_valid.values\n",
    "    #\n",
    "    y_pred_train=pd.DataFrame(index=y_train.index)\n",
    "    y_pred_train[target_column]=0\n",
    "    #\n",
    "    y_train = y_train.values\n",
    "    y_valid = y_valid.values\n",
    "\n",
    "    #applying XGB\n",
    "    d_train = xgb.DMatrix(X_train, y_train)\n",
    "    d_valid = xgb.DMatrix(X_valid, y_valid)\n",
    "\n",
    "    watchlist = [(d_train, 'train'), (d_valid, 'valid')]\n",
    "    xgb_model = xgb.train(xgb_params, d_train, nrounds, watchlist, early_stopping_rounds=100, \n",
    "                          feval=gini_xgb, maximize=True, verbose_eval=1000)\n",
    "    y_pred_test[target_column] +=  xgb_model.predict(xgb.DMatrix(X_test.values), ntree_limit=xgb_model.best_ntree_limit+50) / (kfold)\n",
    "    y_pred_train[target_column] += xgb_model.predict(xgb.DMatrix(X_train), ntree_limit=xgb_model.best_ntree_limit+50) / (kfold)\n",
    "\n",
    "    \n",
    "    #save model\n",
    "    #xgb_model.save_model('%sm_%s.model'%(ModelsDir,i))\n",
    "    #pickle.dump(xgb_model, open('%sm_%s.model_protocol2'%(ModelsDir,i), 'wb'), protocol=2)\n",
    "    pickle.dump(xgb_model, open('%sm_%s.model_with_all'%(ModelsDir,i), 'wb'))\n",
    "    \n",
    "    #dump model\n",
    "    xgb_model.dump_model('%smodel_with_all_raw_%s.txt'%(ModelsDir,i))"
   ]
  },
  {
   "cell_type": "code",
   "execution_count": 24,
   "metadata": {},
   "outputs": [
    {
     "name": "stdout",
     "output_type": "stream",
     "text": [
      "Test Gini - 0.423917\n",
      "Test ROC_AUC - 0.711958\n"
     ]
    }
   ],
   "source": [
    "#Prediction results\n",
    "g=gini(y_test,y_pred_test)/gini(y_test,y_test)\n",
    "print('Test Gini - %f'%g)\n",
    "\n",
    "ROC_AUC=roc_auc_score(y_test, y_pred_test)\n",
    "print('Test ROC_AUC - %f'%ROC_AUC)"
   ]
  },
  {
   "cell_type": "code",
   "execution_count": 25,
   "metadata": {
    "collapsed": true
   },
   "outputs": [],
   "source": [
    "#mean prediction value to convert to binary\n",
    "m=y_pred_test.mean()"
   ]
  },
  {
   "cell_type": "code",
   "execution_count": 26,
   "metadata": {},
   "outputs": [
    {
     "name": "stdout",
     "output_type": "stream",
     "text": [
      "Confusion matrix\n",
      "\n",
      "TP=924 FP=9552\n",
      "FN=426 TN=15673\n"
     ]
    }
   ],
   "source": [
    "y_pred_test[y_pred_test > m] = 1\n",
    "y_pred_test[y_pred_test <= m] = 0\n",
    "\n",
    "print ('Confusion matrix\\n')    \n",
    "tn, fp, fn, tp = confusion_matrix(y_test, y_pred_test).ravel()\n",
    "print('TP=%d FP=%d'%(tp,fp))\n",
    "print('FN=%d TN=%d'%(fn,tn))"
   ]
  }
 ],
 "metadata": {
  "anaconda-cloud": {},
  "kernelspec": {
   "display_name": "Python 3",
   "language": "python",
   "name": "python3"
  },
  "language_info": {
   "codemirror_mode": {
    "name": "ipython",
    "version": 3
   },
   "file_extension": ".py",
   "mimetype": "text/x-python",
   "name": "python",
   "nbconvert_exporter": "python",
   "pygments_lexer": "ipython3",
   "version": "3.6.3"
  }
 },
 "nbformat": 4,
 "nbformat_minor": 1
}
