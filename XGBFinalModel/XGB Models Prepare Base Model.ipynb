{
 "cells": [
  {
   "cell_type": "code",
   "execution_count": 13,
   "metadata": {
    "collapsed": true
   },
   "outputs": [],
   "source": [
    "import pandas as pd\n",
    "import numpy as np\n",
    "import pickle"
   ]
  },
  {
   "cell_type": "code",
   "execution_count": 14,
   "metadata": {
    "collapsed": true
   },
   "outputs": [],
   "source": [
    "#data\n",
    "dataset = pd.read_csv('/home/kate/data/ClaimPrediction/fdata_v1_encd.csv', index_col=None)\n",
    "target_column = 'hasclaim'"
   ]
  },
  {
   "cell_type": "code",
   "execution_count": 15,
   "metadata": {
    "collapsed": true
   },
   "outputs": [],
   "source": [
    "featureset=[\n",
    "'acci_last_infractionage',\n",
    "'carpoolind_encd',\n",
    "'classcd_encd',\n",
    "'driverage',\n",
    "'drivernumber',\n",
    "'estimatedannualdistance',\n",
    "'gooddriverind_encd',\n",
    "'maritalstatuscd_encd',\n",
    "'mvrstatus_encd',\n",
    "'mvrstatusage',\n",
    "'ratingvalue',\n",
    "'vehbodytypecd_encd',\n",
    "'vehicleage',\n",
    "'vehnumber',\n",
    "'licenseage',\n",
    "'gendercd_encd'\n",
    "]\n",
    "#add calculated column\n",
    "dataset['licenseage']=dataset['driverage']-dataset['havelicenseage']"
   ]
  },
  {
   "cell_type": "code",
   "execution_count": 16,
   "metadata": {
    "collapsed": true
   },
   "outputs": [],
   "source": [
    "#models files dir\n",
    "ModelsDir='/home/kate/Models/XGB/'"
   ]
  },
  {
   "cell_type": "code",
   "execution_count": 17,
   "metadata": {
    "collapsed": true
   },
   "outputs": [],
   "source": [
    "#xgb library and parameters\n",
    "import xgboost as xgb\n",
    "\n",
    "xgb_params = {\n",
    "        'objective': 'binary:logistic',\n",
    "        'eval_metric': 'auc',\n",
    "        'silent': True,\n",
    "        'booster': 'gbtree',\n",
    "        'seed': 42,\n",
    "        'scale_pos_weight':0.3,\n",
    "        'colsample_bylevel': 0.232094506,\n",
    "        'colsample_bytree': 0.978684648,\n",
    "        'eta': 0.01208041,\n",
    "        'max_depth': 4}\n"
   ]
  },
  {
   "cell_type": "code",
   "execution_count": 18,
   "metadata": {
    "collapsed": true
   },
   "outputs": [],
   "source": [
    "#Evaluation metric to be used in tuning\n",
    "from sklearn.metrics import roc_auc_score,confusion_matrix\n",
    "def gini(y, pred):\n",
    "    g = np.asarray(np.c_[y, pred, np.arange(len(y)) ], dtype=np.float)\n",
    "    g = g[np.lexsort((g[:,2], -1*g[:,1]))]\n",
    "    gs = g[:,0].cumsum().sum() / g[:,0].sum()\n",
    "    gs -= (len(y) + 1) / 2.\n",
    "    return gs / len(y)\n",
    "def gini_xgb(pred, y):\n",
    "    y = y.get_label()\n",
    "    return 'gini', gini(y, pred) / gini(y, y)"
   ]
  },
  {
   "cell_type": "code",
   "execution_count": 19,
   "metadata": {
    "collapsed": true
   },
   "outputs": [],
   "source": [
    "#StratifiedKFold\n",
    "from sklearn.model_selection import StratifiedKFold\n",
    "nrounds=5000 # need to change to 2000\n",
    "kfold = 10  # need to change to 10\n",
    "skf = StratifiedKFold(n_splits=kfold, random_state=42)"
   ]
  },
  {
   "cell_type": "code",
   "execution_count": 20,
   "metadata": {
    "collapsed": true
   },
   "outputs": [],
   "source": [
    "#splitting to train/test \n",
    "from sklearn.model_selection import train_test_split\n",
    "X, X_test, y, y_test = train_test_split(dataset.loc[:,featureset], dataset[target_column], test_size=0.2, random_state=42)"
   ]
  },
  {
   "cell_type": "code",
   "execution_count": 21,
   "metadata": {},
   "outputs": [
    {
     "name": "stdout",
     "output_type": "stream",
     "text": [
      " xgb kfold: 1  of  10 : \n",
      "[0]\ttrain-auc:0.574272\tvalid-auc:0.566008\ttrain-gini:0.152316\tvalid-gini:0.129954\n",
      "Multiple eval metrics have been passed: 'valid-gini' will be used for early stopping.\n",
      "\n",
      "Will train until valid-gini hasn't improved in 100 rounds.\n",
      "[1000]\ttrain-auc:0.727926\tvalid-auc:0.706371\ttrain-gini:0.455852\tvalid-gini:0.412743\n",
      "Stopping. Best iteration:\n",
      "[1570]\ttrain-auc:0.737367\tvalid-auc:0.708504\ttrain-gini:0.474733\tvalid-gini:0.417007\n",
      "\n",
      " xgb kfold: 2  of  10 : \n",
      "[0]\ttrain-auc:0.574179\tvalid-auc:0.566838\ttrain-gini:0.151633\tvalid-gini:0.205131\n",
      "Multiple eval metrics have been passed: 'valid-gini' will be used for early stopping.\n",
      "\n",
      "Will train until valid-gini hasn't improved in 100 rounds.\n",
      "[1000]\ttrain-auc:0.728117\tvalid-auc:0.709877\ttrain-gini:0.456235\tvalid-gini:0.419755\n",
      "Stopping. Best iteration:\n",
      "[1559]\ttrain-auc:0.737339\tvalid-auc:0.711465\ttrain-gini:0.474678\tvalid-gini:0.422932\n",
      "\n",
      " xgb kfold: 3  of  10 : \n",
      "[0]\ttrain-auc:0.570159\tvalid-auc:0.560564\ttrain-gini:0.141052\tvalid-gini:0.177807\n",
      "Multiple eval metrics have been passed: 'valid-gini' will be used for early stopping.\n",
      "\n",
      "Will train until valid-gini hasn't improved in 100 rounds.\n",
      "[1000]\ttrain-auc:0.72772\tvalid-auc:0.702279\ttrain-gini:0.455441\tvalid-gini:0.404559\n",
      "[2000]\ttrain-auc:0.743174\tvalid-auc:0.709441\ttrain-gini:0.486349\tvalid-gini:0.418883\n",
      "Stopping. Best iteration:\n",
      "[2560]\ttrain-auc:0.75142\tvalid-auc:0.710512\ttrain-gini:0.50284\tvalid-gini:0.421024\n",
      "\n",
      " xgb kfold: 4  of  10 : \n",
      "[0]\ttrain-auc:0.569009\tvalid-auc:0.563515\ttrain-gini:0.139363\tvalid-gini:0.138577\n",
      "Multiple eval metrics have been passed: 'valid-gini' will be used for early stopping.\n",
      "\n",
      "Will train until valid-gini hasn't improved in 100 rounds.\n",
      "[1000]\ttrain-auc:0.729923\tvalid-auc:0.695426\ttrain-gini:0.459847\tvalid-gini:0.390852\n",
      "Stopping. Best iteration:\n",
      "[1033]\ttrain-auc:0.73071\tvalid-auc:0.695543\ttrain-gini:0.46142\tvalid-gini:0.391085\n",
      "\n",
      " xgb kfold: 5  of  10 : \n",
      "[0]\ttrain-auc:0.567992\tvalid-auc:0.561121\ttrain-gini:0.138329\tvalid-gini:0.10258\n",
      "Multiple eval metrics have been passed: 'valid-gini' will be used for early stopping.\n",
      "\n",
      "Will train until valid-gini hasn't improved in 100 rounds.\n",
      "[1000]\ttrain-auc:0.727276\tvalid-auc:0.711251\ttrain-gini:0.454551\tvalid-gini:0.422503\n",
      "[2000]\ttrain-auc:0.742228\tvalid-auc:0.715024\ttrain-gini:0.484457\tvalid-gini:0.430048\n",
      "Stopping. Best iteration:\n",
      "[2282]\ttrain-auc:0.746559\tvalid-auc:0.715793\ttrain-gini:0.493117\tvalid-gini:0.431587\n",
      "\n",
      " xgb kfold: 6  of  10 : \n",
      "[0]\ttrain-auc:0.567235\tvalid-auc:0.568001\ttrain-gini:0.136617\tvalid-gini:0.130778\n",
      "Multiple eval metrics have been passed: 'valid-gini' will be used for early stopping.\n",
      "\n",
      "Will train until valid-gini hasn't improved in 100 rounds.\n",
      "[1000]\ttrain-auc:0.727432\tvalid-auc:0.705359\ttrain-gini:0.454863\tvalid-gini:0.410718\n",
      "[2000]\ttrain-auc:0.744328\tvalid-auc:0.709929\ttrain-gini:0.488656\tvalid-gini:0.419857\n",
      "Stopping. Best iteration:\n",
      "[2099]\ttrain-auc:0.745694\tvalid-auc:0.710044\ttrain-gini:0.491387\tvalid-gini:0.420088\n",
      "\n",
      " xgb kfold: 7  of  10 : \n",
      "[0]\ttrain-auc:0.572149\tvalid-auc:0.585089\ttrain-gini:0.148248\tvalid-gini:0.183185\n",
      "Multiple eval metrics have been passed: 'valid-gini' will be used for early stopping.\n",
      "\n",
      "Will train until valid-gini hasn't improved in 100 rounds.\n",
      "[1000]\ttrain-auc:0.728161\tvalid-auc:0.707553\ttrain-gini:0.456322\tvalid-gini:0.415107\n",
      "Stopping. Best iteration:\n",
      "[1262]\ttrain-auc:0.732966\tvalid-auc:0.708201\ttrain-gini:0.465931\tvalid-gini:0.416402\n",
      "\n",
      " xgb kfold: 8  of  10 : \n",
      "[0]\ttrain-auc:0.569166\tvalid-auc:0.569514\ttrain-gini:0.140299\tvalid-gini:0.170336\n",
      "Multiple eval metrics have been passed: 'valid-gini' will be used for early stopping.\n",
      "\n",
      "Will train until valid-gini hasn't improved in 100 rounds.\n",
      "[1000]\ttrain-auc:0.727837\tvalid-auc:0.708476\ttrain-gini:0.455674\tvalid-gini:0.416953\n",
      "[2000]\ttrain-auc:0.743432\tvalid-auc:0.713193\ttrain-gini:0.486864\tvalid-gini:0.426386\n",
      "Stopping. Best iteration:\n",
      "[2491]\ttrain-auc:0.750641\tvalid-auc:0.714336\ttrain-gini:0.501281\tvalid-gini:0.428673\n",
      "\n",
      " xgb kfold: 9  of  10 : \n",
      "[0]\ttrain-auc:0.56843\tvalid-auc:0.576145\ttrain-gini:0.138534\tvalid-gini:0.196417\n",
      "Multiple eval metrics have been passed: 'valid-gini' will be used for early stopping.\n",
      "\n",
      "Will train until valid-gini hasn't improved in 100 rounds.\n",
      "[1000]\ttrain-auc:0.731\tvalid-auc:0.689654\ttrain-gini:0.461999\tvalid-gini:0.379306\n",
      "Stopping. Best iteration:\n",
      "[1708]\ttrain-auc:0.741524\tvalid-auc:0.691473\ttrain-gini:0.483049\tvalid-gini:0.382945\n",
      "\n",
      " xgb kfold: 10  of  10 : \n",
      "[0]\ttrain-auc:0.569653\tvalid-auc:0.565104\ttrain-gini:0.140858\tvalid-gini:0.161267\n",
      "Multiple eval metrics have been passed: 'valid-gini' will be used for early stopping.\n",
      "\n",
      "Will train until valid-gini hasn't improved in 100 rounds.\n",
      "[1000]\ttrain-auc:0.727451\tvalid-auc:0.710502\ttrain-gini:0.454902\tvalid-gini:0.421003\n",
      "Stopping. Best iteration:\n",
      "[1692]\ttrain-auc:0.738761\tvalid-auc:0.713816\ttrain-gini:0.477522\tvalid-gini:0.427632\n",
      "\n"
     ]
    }
   ],
   "source": [
    "#prediction dataframes\n",
    "y_pred_test=pd.DataFrame(index=y_test.index)\n",
    "y_pred_test[target_column]=0\n",
    "\n",
    "#Stratified Fold\n",
    "for i, (train_index, test_index) in enumerate(skf.split(X, y)):\n",
    "    print(' xgb kfold: {}  of  {} : '.format(i+1, kfold))\n",
    "    #getting fold data\n",
    "    X_train, X_valid = X.iloc[train_index,:].copy(), X.iloc[test_index,:].copy()\n",
    "    y_train, y_valid = y.iloc[train_index], y.iloc[test_index]\n",
    "    \n",
    "    #preparing for XGB run\n",
    "    X_train = X_train.values\n",
    "    X_valid = X_valid.values\n",
    "    #\n",
    "    y_pred_train=pd.DataFrame(index=y_train.index)\n",
    "    y_pred_train[target_column]=0\n",
    "    #\n",
    "    y_train = y_train.values\n",
    "    y_valid = y_valid.values\n",
    "\n",
    "    #applying XGB\n",
    "    d_train = xgb.DMatrix(X_train, y_train)\n",
    "    d_valid = xgb.DMatrix(X_valid, y_valid)\n",
    "\n",
    "    watchlist = [(d_train, 'train'), (d_valid, 'valid')]\n",
    "    xgb_model = xgb.train(xgb_params, d_train, nrounds, watchlist, early_stopping_rounds=100, \n",
    "                          feval=gini_xgb, maximize=True, verbose_eval=1000)\n",
    "    y_pred_test[target_column] +=  xgb_model.predict(xgb.DMatrix(X_test.values), ntree_limit=xgb_model.best_ntree_limit+50) / (kfold)\n",
    "    y_pred_train[target_column] += xgb_model.predict(xgb.DMatrix(X_train), ntree_limit=xgb_model.best_ntree_limit+50) / (kfold)\n",
    "\n",
    "    \n",
    "    #save model\n",
    "    #xgb_model.save_model('%sm_%s.model'%(ModelsDir,i))\n",
    "    #pickle.dump(xgb_model, open('%sm_%s.model_protocol2'%(ModelsDir,i), 'wb'), protocol=2)\n",
    "    pickle.dump(xgb_model, open('%sm_%s.model_licenseage_gender'%(ModelsDir,i), 'wb'))\n",
    "    \n",
    "    #dump model\n",
    "    xgb_model.dump_model('%smodel_licenseage_gender_%s.txt'%(ModelsDir,i))"
   ]
  },
  {
   "cell_type": "code",
   "execution_count": 22,
   "metadata": {},
   "outputs": [
    {
     "name": "stdout",
     "output_type": "stream",
     "text": [
      "Test Gini - 0.420893\n",
      "Test ROC_AUC - 0.710447\n"
     ]
    }
   ],
   "source": [
    "#Prediction results\n",
    "g=gini(y_test,y_pred_test)/gini(y_test,y_test)\n",
    "print('Test Gini - %f'%g)\n",
    "\n",
    "ROC_AUC=roc_auc_score(y_test, y_pred_test)\n",
    "print('Test ROC_AUC - %f'%ROC_AUC)"
   ]
  },
  {
   "cell_type": "code",
   "execution_count": 23,
   "metadata": {
    "collapsed": true
   },
   "outputs": [],
   "source": [
    "#mean prediction value to convert to binary\n",
    "m=y_pred_test.mean()"
   ]
  },
  {
   "cell_type": "code",
   "execution_count": 24,
   "metadata": {},
   "outputs": [
    {
     "name": "stdout",
     "output_type": "stream",
     "text": [
      "Confusion matrix\n",
      "\n",
      "TP=930 FP=9727\n",
      "FN=420 TN=15498\n"
     ]
    }
   ],
   "source": [
    "y_pred_test[y_pred_test > m] = 1\n",
    "y_pred_test[y_pred_test <= m] = 0\n",
    "\n",
    "print ('Confusion matrix\\n')    \n",
    "tn, fp, fn, tp = confusion_matrix(y_test, y_pred_test).ravel()\n",
    "print('TP=%d FP=%d'%(tp,fp))\n",
    "print('FN=%d TN=%d'%(fn,tn))"
   ]
  }
 ],
 "metadata": {
  "anaconda-cloud": {},
  "kernelspec": {
   "display_name": "Python 3",
   "language": "python",
   "name": "python3"
  },
  "language_info": {
   "codemirror_mode": {
    "name": "ipython",
    "version": 3
   },
   "file_extension": ".py",
   "mimetype": "text/x-python",
   "name": "python",
   "nbconvert_exporter": "python",
   "pygments_lexer": "ipython3",
   "version": "3.6.3"
  }
 },
 "nbformat": 4,
 "nbformat_minor": 1
}
